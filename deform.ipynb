{
  "nbformat": 4,
  "nbformat_minor": 0,
  "metadata": {
    "colab": {
      "provenance": [],
      "authorship_tag": "ABX9TyNxeNZos3TYQZWN6CtVPlEv",
      "include_colab_link": true
    },
    "kernelspec": {
      "name": "python3",
      "display_name": "Python 3"
    },
    "language_info": {
      "name": "python"
    }
  },
  "cells": [
    {
      "cell_type": "markdown",
      "metadata": {
        "id": "view-in-github",
        "colab_type": "text"
      },
      "source": [
        "<a href=\"https://colab.research.google.com/github/nadiajelani/football_analytics/blob/main/deform.ipynb\" target=\"_parent\"><img src=\"https://colab.research.google.com/assets/colab-badge.svg\" alt=\"Open In Colab\"/></a>"
      ]
    },
    {
      "cell_type": "code",
      "execution_count": 1,
      "metadata": {
        "colab": {
          "base_uri": "https://localhost:8080/"
        },
        "id": "3mayPdODSEP3",
        "outputId": "eafb8677-1206-4d2e-f6a1-f47c43d44947"
      },
      "outputs": [
        {
          "output_type": "stream",
          "name": "stdout",
          "text": [
            "Requirement already satisfied: opencv-python-headless in /usr/local/lib/python3.11/dist-packages (4.11.0.86)\n",
            "Requirement already satisfied: numpy>=1.21.2 in /usr/local/lib/python3.11/dist-packages (from opencv-python-headless) (1.26.4)\n"
          ]
        }
      ],
      "source": [
        "# Install OpenCV if not already installed\n",
        "!pip install opencv-python-headless\n"
      ]
    },
    {
      "cell_type": "code",
      "source": [
        "# Import libraries\n",
        "import cv2\n",
        "import numpy as np\n",
        "import os\n",
        "from google.colab import drive  # Import drive to mount Google Drive\n",
        "# Mount Google Drive\n",
        "drive.mount('/content/drive')"
      ],
      "metadata": {
        "colab": {
          "base_uri": "https://localhost:8080/",
          "height": 321
        },
        "id": "gKqc5ebESFnV",
        "outputId": "6ec2d258-4ce8-4bd6-8816-bc2dca78ce72"
      },
      "execution_count": 2,
      "outputs": [
        {
          "output_type": "error",
          "ename": "MessageError",
          "evalue": "Error: credential propagation was unsuccessful",
          "traceback": [
            "\u001b[0;31m---------------------------------------------------------------------------\u001b[0m",
            "\u001b[0;31mMessageError\u001b[0m                              Traceback (most recent call last)",
            "\u001b[0;32m<ipython-input-2-2daa59549e1f>\u001b[0m in \u001b[0;36m<cell line: 0>\u001b[0;34m()\u001b[0m\n\u001b[1;32m      5\u001b[0m \u001b[0;32mfrom\u001b[0m \u001b[0mgoogle\u001b[0m\u001b[0;34m.\u001b[0m\u001b[0mcolab\u001b[0m \u001b[0;32mimport\u001b[0m \u001b[0mdrive\u001b[0m  \u001b[0;31m# Import drive to mount Google Drive\u001b[0m\u001b[0;34m\u001b[0m\u001b[0;34m\u001b[0m\u001b[0m\n\u001b[1;32m      6\u001b[0m \u001b[0;31m# Mount Google Drive\u001b[0m\u001b[0;34m\u001b[0m\u001b[0;34m\u001b[0m\u001b[0m\n\u001b[0;32m----> 7\u001b[0;31m \u001b[0mdrive\u001b[0m\u001b[0;34m.\u001b[0m\u001b[0mmount\u001b[0m\u001b[0;34m(\u001b[0m\u001b[0;34m'/content/drive'\u001b[0m\u001b[0;34m)\u001b[0m\u001b[0;34m\u001b[0m\u001b[0;34m\u001b[0m\u001b[0m\n\u001b[0m",
            "\u001b[0;32m/usr/local/lib/python3.11/dist-packages/google/colab/drive.py\u001b[0m in \u001b[0;36mmount\u001b[0;34m(mountpoint, force_remount, timeout_ms, readonly)\u001b[0m\n\u001b[1;32m     98\u001b[0m \u001b[0;32mdef\u001b[0m \u001b[0mmount\u001b[0m\u001b[0;34m(\u001b[0m\u001b[0mmountpoint\u001b[0m\u001b[0;34m,\u001b[0m \u001b[0mforce_remount\u001b[0m\u001b[0;34m=\u001b[0m\u001b[0;32mFalse\u001b[0m\u001b[0;34m,\u001b[0m \u001b[0mtimeout_ms\u001b[0m\u001b[0;34m=\u001b[0m\u001b[0;36m120000\u001b[0m\u001b[0;34m,\u001b[0m \u001b[0mreadonly\u001b[0m\u001b[0;34m=\u001b[0m\u001b[0;32mFalse\u001b[0m\u001b[0;34m)\u001b[0m\u001b[0;34m:\u001b[0m\u001b[0;34m\u001b[0m\u001b[0;34m\u001b[0m\u001b[0m\n\u001b[1;32m     99\u001b[0m   \u001b[0;34m\"\"\"Mount your Google Drive at the specified mountpoint path.\"\"\"\u001b[0m\u001b[0;34m\u001b[0m\u001b[0;34m\u001b[0m\u001b[0m\n\u001b[0;32m--> 100\u001b[0;31m   return _mount(\n\u001b[0m\u001b[1;32m    101\u001b[0m       \u001b[0mmountpoint\u001b[0m\u001b[0;34m,\u001b[0m\u001b[0;34m\u001b[0m\u001b[0;34m\u001b[0m\u001b[0m\n\u001b[1;32m    102\u001b[0m       \u001b[0mforce_remount\u001b[0m\u001b[0;34m=\u001b[0m\u001b[0mforce_remount\u001b[0m\u001b[0;34m,\u001b[0m\u001b[0;34m\u001b[0m\u001b[0;34m\u001b[0m\u001b[0m\n",
            "\u001b[0;32m/usr/local/lib/python3.11/dist-packages/google/colab/drive.py\u001b[0m in \u001b[0;36m_mount\u001b[0;34m(mountpoint, force_remount, timeout_ms, ephemeral, readonly)\u001b[0m\n\u001b[1;32m    135\u001b[0m   )\n\u001b[1;32m    136\u001b[0m   \u001b[0;32mif\u001b[0m \u001b[0mephemeral\u001b[0m\u001b[0;34m:\u001b[0m\u001b[0;34m\u001b[0m\u001b[0;34m\u001b[0m\u001b[0m\n\u001b[0;32m--> 137\u001b[0;31m     _message.blocking_request(\n\u001b[0m\u001b[1;32m    138\u001b[0m         \u001b[0;34m'request_auth'\u001b[0m\u001b[0;34m,\u001b[0m\u001b[0;34m\u001b[0m\u001b[0;34m\u001b[0m\u001b[0m\n\u001b[1;32m    139\u001b[0m         \u001b[0mrequest\u001b[0m\u001b[0;34m=\u001b[0m\u001b[0;34m{\u001b[0m\u001b[0;34m'authType'\u001b[0m\u001b[0;34m:\u001b[0m \u001b[0;34m'dfs_ephemeral'\u001b[0m\u001b[0;34m}\u001b[0m\u001b[0;34m,\u001b[0m\u001b[0;34m\u001b[0m\u001b[0;34m\u001b[0m\u001b[0m\n",
            "\u001b[0;32m/usr/local/lib/python3.11/dist-packages/google/colab/_message.py\u001b[0m in \u001b[0;36mblocking_request\u001b[0;34m(request_type, request, timeout_sec, parent)\u001b[0m\n\u001b[1;32m    174\u001b[0m       \u001b[0mrequest_type\u001b[0m\u001b[0;34m,\u001b[0m \u001b[0mrequest\u001b[0m\u001b[0;34m,\u001b[0m \u001b[0mparent\u001b[0m\u001b[0;34m=\u001b[0m\u001b[0mparent\u001b[0m\u001b[0;34m,\u001b[0m \u001b[0mexpect_reply\u001b[0m\u001b[0;34m=\u001b[0m\u001b[0;32mTrue\u001b[0m\u001b[0;34m\u001b[0m\u001b[0;34m\u001b[0m\u001b[0m\n\u001b[1;32m    175\u001b[0m   )\n\u001b[0;32m--> 176\u001b[0;31m   \u001b[0;32mreturn\u001b[0m \u001b[0mread_reply_from_input\u001b[0m\u001b[0;34m(\u001b[0m\u001b[0mrequest_id\u001b[0m\u001b[0;34m,\u001b[0m \u001b[0mtimeout_sec\u001b[0m\u001b[0;34m)\u001b[0m\u001b[0;34m\u001b[0m\u001b[0;34m\u001b[0m\u001b[0m\n\u001b[0m",
            "\u001b[0;32m/usr/local/lib/python3.11/dist-packages/google/colab/_message.py\u001b[0m in \u001b[0;36mread_reply_from_input\u001b[0;34m(message_id, timeout_sec)\u001b[0m\n\u001b[1;32m    101\u001b[0m     ):\n\u001b[1;32m    102\u001b[0m       \u001b[0;32mif\u001b[0m \u001b[0;34m'error'\u001b[0m \u001b[0;32min\u001b[0m \u001b[0mreply\u001b[0m\u001b[0;34m:\u001b[0m\u001b[0;34m\u001b[0m\u001b[0;34m\u001b[0m\u001b[0m\n\u001b[0;32m--> 103\u001b[0;31m         \u001b[0;32mraise\u001b[0m \u001b[0mMessageError\u001b[0m\u001b[0;34m(\u001b[0m\u001b[0mreply\u001b[0m\u001b[0;34m[\u001b[0m\u001b[0;34m'error'\u001b[0m\u001b[0;34m]\u001b[0m\u001b[0;34m)\u001b[0m\u001b[0;34m\u001b[0m\u001b[0;34m\u001b[0m\u001b[0m\n\u001b[0m\u001b[1;32m    104\u001b[0m       \u001b[0;32mreturn\u001b[0m \u001b[0mreply\u001b[0m\u001b[0;34m.\u001b[0m\u001b[0mget\u001b[0m\u001b[0;34m(\u001b[0m\u001b[0;34m'data'\u001b[0m\u001b[0;34m,\u001b[0m \u001b[0;32mNone\u001b[0m\u001b[0;34m)\u001b[0m\u001b[0;34m\u001b[0m\u001b[0;34m\u001b[0m\u001b[0m\n\u001b[1;32m    105\u001b[0m \u001b[0;34m\u001b[0m\u001b[0m\n",
            "\u001b[0;31mMessageError\u001b[0m: Error: credential propagation was unsuccessful"
          ]
        }
      ]
    },
    {
      "cell_type": "code",
      "source": [
        "image_folder = '/content/drive/MyDrive/Data and Videos/Ball 1/Drop 1'"
      ],
      "metadata": {
        "id": "yDhoEMRnSH0T"
      },
      "execution_count": null,
      "outputs": []
    },
    {
      "cell_type": "code",
      "source": [
        "# List to store image file names (assuming sequential names like frame1.bmp, frame2.bmp, etc.)\n",
        "image_files = sorted([os.path.join(image_folder, f) for f in os.listdir(image_folder) if f.endswith('.bmp')])\n",
        "if not image_files:\n",
        "    raise ValueError(f\"No .bmp files found in {image_folder}. Please check the folder path and ensure .bmp files exist.\")\n",
        "\n",
        "# Read the first image to initialize\n",
        "frame = cv2.imread(image_files[0], cv2.IMREAD_GRAYSCALE)\n",
        "if frame is None:\n",
        "    raise ValueError(f\"Failed to load the first image: {image_files[0]}\")"
      ],
      "metadata": {
        "id": "HA88VMrmSMDB"
      },
      "execution_count": null,
      "outputs": []
    },
    {
      "cell_type": "code",
      "source": [
        "# Preprocess the first frame\n",
        "_, thresh = cv2.threshold(frame, 50, 255, cv2.THRESH_BINARY_INV)\n",
        "\n",
        "# Find contours to get initial object position\n",
        "contours, _ = cv2.findContours(thresh, cv2.RETR_EXTERNAL, cv2.CHAIN_APPROX_SIMPLE)\n",
        "if contours:\n",
        "    largest_contour = max(contours, key=cv2.contourArea)\n",
        "    M = cv2.moments(largest_contour)\n",
        "    if M[\"m00\"] != 0:\n",
        "        cx = int(M[\"m10\"] / M[\"m00\"])\n",
        "        cy = int(M[\"m01\"] / M[\"m00\"])\n",
        "    else:\n",
        "        cx, cy = frame.shape[1] // 2, frame.shape[0] // 2  # Default center if no contour\n",
        "else:\n",
        "    cx, cy = frame.shape[1] // 2, frame.shape[0] // 2\n",
        "\n",
        "# Initialize Kalman Filter (4 states: x, y, dx, dy; 2 measurements: x, y)\n",
        "kalman = cv2.KalmanFilter(4, 2)\n",
        "kalman.measurementMatrix = np.array([[1, 0, 0, 0], [0, 1, 0, 0]], np.float32)\n",
        "kalman.transitionMatrix = np.array([[1, 0, 1, 0], [0, 1, 0, 1], [0, 0, 1, 0], [0, 0, 0, 1]], np.float32)\n",
        "kalman.processNoiseCov = np.eye(4, dtype=np.float32) * 0.03\n",
        "kalman.statePre = np.array([[cx], [cy], [0], [0]], np.float32)  # Initial state"
      ],
      "metadata": {
        "id": "gpQDoUJNSMxa"
      },
      "execution_count": null,
      "outputs": []
    },
    {
      "cell_type": "code",
      "source": [
        "# Apply Canny edge detection to find the surface line\n",
        "edges = cv2.Canny(frame, 50, 150, apertureSize=3)\n",
        "\n",
        "# Use Hough Transform to detect lines\n",
        "lines = cv2.HoughLinesP(edges, 1, np.pi / 180, threshold=100, minLineLength=100, maxLineGap=10)\n",
        "\n",
        "# Find the horizontal line closest to the bottom (assuming it's the surface)\n",
        "surface_y = frame.shape[0]  # Default to bottom if no line is found\n",
        "if lines is not None:\n",
        "    for line in lines:\n",
        "        x1, y1, x2, y2 = line[0]\n",
        "        if abs(y1 - y2) < 10:  # Horizontal line (small y difference)\n",
        "            surface_y = min(y1, y2)  # Take the lowest y as the surface\n",
        "            break\n",
        "\n",
        "print(f\"Detected surface at y = {surface_y}\")"
      ],
      "metadata": {
        "id": "JxDLXLpHSPl7"
      },
      "execution_count": null,
      "outputs": []
    },
    {
      "cell_type": "code",
      "source": [
        "# Import the necessary patch\n",
        "from google.colab.patches import cv2_imshow\n",
        "# Initialize previous frame for optical flow\n",
        "prev_gray = cv2.cvtColor(cv2.imread(image_files[0]), cv2.COLOR_BGR2GRAY)\n",
        "p0 = np.array([[[cx, cy]]], dtype=np.float32)  # Initial point for optical flow\n",
        "lk_params = dict(winSize=(15, 15), maxLevel=2, criteria=(cv2.TERM_CRITERIA_EPS | cv2.TERM_CRITERIA_COUNT, 10, 0.03))\n",
        "\n",
        "# Process each image\n",
        "for i, img_file in enumerate(image_files):\n",
        "    # Read and preprocess current frame\n",
        "    frame = cv2.imread(img_file, cv2.IMREAD_GRAYSCALE)\n",
        "    if frame is None:\n",
        "        print(f\"Failed to load {img_file}\")\n",
        "        continue\n",
        "\n",
        "    _, thresh = cv2.threshold(frame, 50, 255, cv2.THRESH_BINARY_INV)\n",
        "\n",
        "    # Find contours\n",
        "    contours, _ = cv2.findContours(thresh, cv2.RETR_EXTERNAL, cv2.CHAIN_APPROX_SIMPLE)\n",
        "    cx, cy = None, None  # Reset for this frame\n",
        "    if contours:\n",
        "        largest_contour = max(contours, key=cv2.contourArea)\n",
        "        M = cv2.moments(largest_contour)\n",
        "        if M[\"m00\"] != 0:\n",
        "            cx = int(M[\"m10\"] / M[\"m00\"])\n",
        "            cy = int(M[\"m01\"] / M[\"m00\"])\n",
        "            # Update Kalman filter with measurement\n",
        "            kalman.correct(np.array([[np.float32(cx)], [np.float32(cy)]]))\n",
        "\n",
        "    # Predict with Kalman filter (handles occlusion)\n",
        "    prediction = kalman.predict()\n",
        "    pred_cx, pred_cy = int(prediction[0][0]), int(prediction[1][0])  # Fixed indexing\n",
        "\n",
        "    # Optical flow (optional confirmation)\n",
        "    curr_gray = frame\n",
        "    p1, st, err = cv2.calcOpticalFlowPyrLK(prev_gray, curr_gray, p0, None, **lk_params)\n",
        "    if st[0] == 1:\n",
        "        flow_cx, flow_cy = p1[0][0], p1[0][1]\n",
        "    else:\n",
        "        flow_cx, flow_cy = pred_cx, pred_cy\n",
        "    p0 = np.array([[flow_cx, flow_cy]], dtype=np.float32)\n",
        "\n",
        "    # Convert frame to color for drawing\n",
        "    frame_color = cv2.cvtColor(frame, cv2.COLOR_GRAY2BGR)\n",
        "\n",
        "    # Draw predicted and flow positions\n",
        "    cv2.circle(frame_color, (pred_cx, pred_cy), 5, (0, 0, 255), -1)  # Kalman prediction\n",
        "    cv2.circle(frame_color, (int(flow_cx), int(flow_cy)), 5, (0, 255, 0), -1)  # Optical flow\n",
        "\n",
        "    if contours:\n",
        "        # Draw the contour\n",
        "        cv2.drawContours(frame_color, [largest_contour], -1, (255, 0, 0), 2)\n",
        "\n",
        "        # Get bounding box to find bottom edge\n",
        "        x, y, w, h = cv2.boundingRect(largest_contour)\n",
        "        bottom_y = y + h\n",
        "\n",
        "        # Detect contact\n",
        "        if bottom_y >= surface_y:\n",
        "            print(f\"Contact detected at frame {i + 1} ({img_file})\")\n",
        "\n",
        "            # Measure contact length (width of the contour at the surface)\n",
        "            contact_points = largest_contour[np.abs(largest_contour[:, 0, 1] - surface_y) < 5]  # Fixed indexing\n",
        "            if len(contact_points) > 0:\n",
        "                contact_length = np.max(contact_points[:, 0, 0]) - np.min(contact_points[:, 0, 0])  # Fixed indexing\n",
        "                print(f\"Contact length: {contact_length} pixels\")\n",
        "\n",
        "            # Measure deformation (aspect ratio of bounding box)\n",
        "            aspect_ratio = w / h\n",
        "            print(f\"Deformation (aspect ratio): {aspect_ratio}\")\n",
        "\n",
        "    # Draw surface line\n",
        "    cv2.line(frame_color, (0, surface_y), (frame.shape[1], surface_y), (255, 255, 0), 2)\n",
        "\n",
        "    # Display frame\n",
        "    cv2_imshow(frame_color)\n",
        "    if cv2.waitKey(30) & 0xFF == ord('q'):\n",
        "        break\n",
        "\n",
        "    # Update previous frame for optical flow\n",
        "    prev_gray = curr_gray.copy()\n",
        "\n",
        "# Release and close\n",
        "cv2.destroyAllWindows()"
      ],
      "metadata": {
        "id": "Q9J7sHgzSSlL"
      },
      "execution_count": null,
      "outputs": []
    }
  ]
}